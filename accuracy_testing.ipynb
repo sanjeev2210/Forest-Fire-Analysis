{
 "cells": [
  {
   "cell_type": "code",
   "execution_count": 7,
   "metadata": {
    "collapsed": true
   },
   "outputs": [],
   "source": [
    "import pandas as pd\n",
    "import numpy as np\n",
    "from __future__ import division\n",
    "c3=0"
   ]
  },
  {
   "cell_type": "code",
   "execution_count": 8,
   "metadata": {},
   "outputs": [
    {
     "name": "stdout",
     "output_type": "stream",
     "text": [
      "168\n"
     ]
    }
   ],
   "source": [
    "out=pd.read_csv('C:\\\\Users\\\\Rahul\\\\Downloads\\\\testing_final.csv')\n",
    "train=np.asarray(out)\n",
    "total=train.shape[0]\n",
    "print total\n",
    "cnt=0\n"
   ]
  },
  {
   "cell_type": "code",
   "execution_count": 9,
   "metadata": {},
   "outputs": [
    {
     "name": "stdout",
     "output_type": "stream",
     "text": [
      "number of mismatch  3\n",
      "98.2142857143\n"
     ]
    }
   ],
   "source": [
    "for i in range(0,train.shape[0]):\n",
    "    if(train[i][9]!=train[i][10]):\n",
    "        cnt = cnt + 1\n",
    "        \n",
    "print \"number of mismatch \",cnt \n",
    "print((total-cnt)/total)*100\n",
    "\n"
   ]
  }
 ],
 "metadata": {
  "kernelspec": {
   "display_name": "Python 2",
   "language": "python",
   "name": "python2"
  },
  "language_info": {
   "codemirror_mode": {
    "name": "ipython",
    "version": 2
   },
   "file_extension": ".py",
   "mimetype": "text/x-python",
   "name": "python",
   "nbconvert_exporter": "python",
   "pygments_lexer": "ipython2",
   "version": "2.7.13"
  }
 },
 "nbformat": 4,
 "nbformat_minor": 2
}

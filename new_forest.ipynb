{
 "cells": [
  {
   "cell_type": "code",
   "execution_count": 31,
   "metadata": {
    "collapsed": true,
    "scrolled": true
   },
   "outputs": [],
   "source": [
    "import os\n",
    "import sklearn\n",
    "import pandas as pd\n",
    "import numpy as np\n",
    "from sklearn.feature_selection import RFE\n",
    "from sklearn.linear_model import LogisticRegression\n",
    "from sklearn.metrics import accuracy_score\n",
    "from sklearn.metrics import precision_recall_curve\n",
    "from sklearn.metrics import average_precision_score\n",
    "\n",
    "train_x=pd.read_csv('C:/Users/Rahul/Desktop/machine/traing_final.csv')\n",
    "test_x=pd.read_csv('C:/Users/Rahul/Desktop/machine/testing_final.csv')\n",
    "\n"
   ]
  },
  {
   "cell_type": "code",
   "execution_count": 32,
   "metadata": {
    "collapsed": true
   },
   "outputs": [],
   "source": [
    "#train.head()\n",
    "#train_x.shape\n",
    "#test_x.shape\n",
    "#test.head()\n",
    "#print \"Number of observations :: \", len(train_x.index)\n",
    "#print \"Number of columns :: \", len(train_x.columns)\n",
    "#print \"Headers :: \", train_x.columns.values\n",
    "#print \"Number of observations :: \", len(test_x.index)\n",
    "#print \"Number of columns :: \", len(test_x.columns)\n",
    "#print \"Headers :: \", test_x.columns.values"
   ]
  },
  {
   "cell_type": "code",
   "execution_count": null,
   "metadata": {
    "collapsed": true
   },
   "outputs": [],
   "source": [
    "\n"
   ]
  },
  {
   "cell_type": "code",
   "execution_count": null,
   "metadata": {
    "collapsed": true
   },
   "outputs": [],
   "source": []
  },
  {
   "cell_type": "code",
   "execution_count": 33,
   "metadata": {
    "collapsed": true
   },
   "outputs": [],
   "source": [
    "#putting in numpy array \n",
    "\n",
    "train=np.asarray(train_x)\n",
    "test=np.asarray(test_x)"
   ]
  },
  {
   "cell_type": "code",
   "execution_count": 34,
   "metadata": {
    "collapsed": true
   },
   "outputs": [],
   "source": [
    "#print train.head()\n",
    "#print train.shape\n",
    "#print train\n",
    "\n",
    "#del train['FFMC']\n",
    "#print train\n",
    "#print test"
   ]
  },
  {
   "cell_type": "code",
   "execution_count": 35,
   "metadata": {
    "collapsed": true
   },
   "outputs": [],
   "source": [
    "#preprocessing dataset\n",
    "\n",
    "clusterno = {'c1':0,'c2':1,'c3':2}\n",
    "for i in range(0,train.shape[0]):\n",
    "    train[i][9]=clusterno[train[i][9]]\n",
    "    \n",
    "    \n",
    "for i in range(0,test.shape[0]):\n",
    "    test[i][9]=clusterno[test[i][9]]"
   ]
  },
  {
   "cell_type": "code",
   "execution_count": 36,
   "metadata": {},
   "outputs": [
    {
     "name": "stdout",
     "output_type": "stream",
     "text": [
      "[[91.6 108.4 764.0 ..., 0.0 1.47 0]\n",
      " [94.8 108.3 647.1 ..., 0.0 0.0 0]\n",
      " [94.8 108.3 647.1 ..., 0.0 1.56 0]\n",
      " ..., \n",
      " [53.4 71.0 233.8 ..., 0.0 0.0 2]\n",
      " [88.2 96.2 229.0 ..., 0.0 1.94 2]\n",
      " [79.5 3.0 125.3 ..., 125.3 125.3 2]]\n",
      "[[90.6 35.4 669.1 ..., 0L 0.0 0]\n",
      " [90.6 35.4 669.1 ..., 0L 0.0 0]\n",
      " [84.9 32.8 664.2 ..., 0L 5.44 0]\n",
      " ..., \n",
      " [91.7 35.8 80.8 ..., 0L 0.0 2]\n",
      " [86.8 15.6 48.3 ..., 0L 6.38 2]\n",
      " [91.7 35.8 80.8 ..., 0L 0.0 2]]\n"
     ]
    }
   ],
   "source": [
    "print train\n",
    "print test"
   ]
  },
  {
   "cell_type": "code",
   "execution_count": 37,
   "metadata": {
    "collapsed": true
   },
   "outputs": [],
   "source": [
    "#seperating into input and target value\n",
    "\n",
    "Y_train = train[:,9]\n",
    "#Y_train\n",
    "train_Y=Y_train.astype('int')\n",
    "\n",
    "Y_test = test[:,9]\n",
    "#Y_train\n",
    "test_Y=Y_test.astype('int')"
   ]
  },
  {
   "cell_type": "code",
   "execution_count": 38,
   "metadata": {
    "collapsed": true
   },
   "outputs": [],
   "source": [
    "train_X = train[:,0:8]\n",
    "#X_train\n",
    "test_X = test[:,0:8]"
   ]
  },
  {
   "cell_type": "code",
   "execution_count": 39,
   "metadata": {},
   "outputs": [
    {
     "name": "stdout",
     "output_type": "stream",
     "text": [
      "((313L, 8L), (313L,))\n",
      "((206L, 8L), (206L,))\n"
     ]
    }
   ],
   "source": [
    "print(train_X.shape ,train_Y.shape)\n",
    "print(test_X.shape ,test_Y.shape)"
   ]
  },
  {
   "cell_type": "code",
   "execution_count": 40,
   "metadata": {
    "scrolled": true
   },
   "outputs": [
    {
     "name": "stdout",
     "output_type": "stream",
     "text": [
      "training accuracy using LOGISTIC REGRESSION   0.984025559105\n",
      "testing accuracy using LOGISTIC REGRESSION  0.859223300971\n"
     ]
    }
   ],
   "source": [
    "#LogisticRegression\n",
    "from sklearn import linear_model\n",
    "from sklearn.linear_model import LogisticRegression\n",
    "\n",
    "clf=linear_model.LogisticRegression()\n",
    "clf.fit(train_X,train_Y)\n",
    "#pred=clf.predict(test_X)\n",
    "\n",
    "print \"training accuracy using LOGISTIC REGRESSION  \",accuracy_score(train_Y, clf.predict(train_X))\n",
    "print \"testing accuracy using LOGISTIC REGRESSION \",accuracy_score(test_Y,clf.predict(test_X))\n",
    "\n",
    "\n"
   ]
  },
  {
   "cell_type": "code",
   "execution_count": 41,
   "metadata": {},
   "outputs": [
    {
     "name": "stdout",
     "output_type": "stream",
     "text": [
      "training accuracy    1.0\n",
      "testing accuracy   0.941747572816\n"
     ]
    }
   ],
   "source": [
    "mul_lr = linear_model.LogisticRegression(multi_class='multinomial', solver='newton-cg').fit(train_X, train_Y)\n",
    "#pred1=mul_lr.predict(test_X)\n",
    "#accuracy_score(test_Y,pred1)\n",
    "print \"training accuracy   \",accuracy_score(train_Y, mul_lr.predict(train_X))\n",
    "print \"testing accuracy  \",accuracy_score(test_Y,mul_lr.predict(test_X))"
   ]
  },
  {
   "cell_type": "code",
   "execution_count": 42,
   "metadata": {},
   "outputs": [
    {
     "name": "stdout",
     "output_type": "stream",
     "text": [
      "training accuracy usin SVM   1.0\n",
      "testing accuracy using SVM  0.932038834951\n"
     ]
    }
   ],
   "source": [
    "#Support Vector machine (SVM)\n",
    "\n",
    "from sklearn.svm import SVC\n",
    "clf1=SVC(kernel='linear')\n",
    "clf1.fit(train_X,train_Y)\n",
    "#pred1=clf1.predict(test_X)\n",
    "#accuracy_score(test_Y,pred1)\n",
    "print \"training accuracy usin SVM  \",accuracy_score(train_Y, clf1.predict(train_X))\n",
    "print \"testing accuracy using SVM \",accuracy_score(test_Y,clf1.predict(test_X))"
   ]
  },
  {
   "cell_type": "code",
   "execution_count": 43,
   "metadata": {},
   "outputs": [
    {
     "name": "stdout",
     "output_type": "stream",
     "text": [
      "training accuracy usin SVM   0.968051118211\n",
      "testing accuracy using SVM  0.825242718447\n"
     ]
    }
   ],
   "source": [
    "#MultiLayer Perceptron\n",
    "\n",
    "from sklearn.neural_network import MLPClassifier\n",
    "#mlp = MLPClassifier(hidden_layer_sizes=(20,3),max_iter=500,solver='lbfgs')\n",
    "mlp = MLPClassifier(hidden_layer_sizes=(20, 3), max_iter=150, alpha=1e-4,\n",
    "                    solver='lbfgs', verbose=10, tol=1e-4, random_state=1,\n",
    "                    learning_rate_init=.1)\n",
    "mlp.fit(train_X,train_Y)\n",
    "#predictions = mlp.predict(test_X)\n",
    "#accuracy_score(test_Y,predictions)\n",
    "print \"training accuracy usin SVM  \",accuracy_score(train_Y, mlp.predict(train_X))\n",
    "print \"testing accuracy using SVM \",accuracy_score(test_Y,mlp.predict(test_X))"
   ]
  },
  {
   "cell_type": "code",
   "execution_count": 44,
   "metadata": {},
   "outputs": [
    {
     "data": {
      "text/plain": [
       "0.58737864077669899"
      ]
     },
     "execution_count": 44,
     "metadata": {},
     "output_type": "execute_result"
    }
   ],
   "source": [
    "# BernoulliNB\n",
    "\n",
    "from sklearn.naive_bayes import BernoulliNB\n",
    "clf3 = BernoulliNB()\n",
    "clf3.fit(train_X,train_Y)\n",
    "pred2=clf3.predict(test_X)\n",
    "accuracy_score(test_Y,pred2)"
   ]
  },
  {
   "cell_type": "code",
   "execution_count": 45,
   "metadata": {},
   "outputs": [
    {
     "name": "stdout",
     "output_type": "stream",
     "text": [
      "training accuracy usin SVM   1.0\n",
      "testing accuracy using SVM  0.927184466019\n"
     ]
    }
   ],
   "source": [
    "#DecisionTree\n",
    "\n",
    "from sklearn.tree import DecisionTreeClassifier\n",
    "clf4 = DecisionTreeClassifier(random_state=0)\n",
    "clf4.fit(train_X,train_Y)\n",
    "#pred4=clf4.predict(test_X)\n",
    "#accuracy_score(test_Y,pred4)\n",
    "print \"training accuracy usin SVM  \",accuracy_score(train_Y, clf4.predict(train_X))\n",
    "print \"testing accuracy using SVM \",accuracy_score(test_Y,clf4.predict(test_X))"
   ]
  },
  {
   "cell_type": "code",
   "execution_count": 46,
   "metadata": {},
   "outputs": [
    {
     "data": {
      "text/plain": [
       "0.85436893203883491"
      ]
     },
     "execution_count": 46,
     "metadata": {},
     "output_type": "execute_result"
    }
   ],
   "source": [
    "#Gaussian NaiveBaye's Classifier\n",
    "\n",
    "from sklearn.naive_bayes import GaussianNB\n",
    "clf5 = GaussianNB()\n",
    "clf5.fit(train_X,train_Y)\n",
    "pred5=clf5.predict(test_X)\n",
    "accuracy_score(test_Y,pred5)"
   ]
  },
  {
   "cell_type": "code",
   "execution_count": 47,
   "metadata": {},
   "outputs": [
    {
     "data": {
      "text/plain": [
       "0.81553398058252424"
      ]
     },
     "execution_count": 47,
     "metadata": {},
     "output_type": "execute_result"
    }
   ],
   "source": [
    "# KNeighborsClassifier\n",
    "\n",
    "from sklearn.neighbors import KNeighborsClassifier\n",
    "clf6 = KNeighborsClassifier(n_neighbors=3)\n",
    "clf6.fit(train_X,train_Y)\n",
    "pred6=clf6.predict(test_X)\n",
    "accuracy_score(test_Y,pred6)\n"
   ]
  },
  {
   "cell_type": "code",
   "execution_count": 48,
   "metadata": {},
   "outputs": [
    {
     "data": {
      "text/plain": [
       "0.84466019417475724"
      ]
     },
     "execution_count": 48,
     "metadata": {},
     "output_type": "execute_result"
    }
   ],
   "source": [
    "#LinearDiscriminantAnalysis \n",
    "\n",
    "from sklearn.discriminant_analysis import LinearDiscriminantAnalysis\n",
    "clf7 = LinearDiscriminantAnalysis()\n",
    "clf7.fit(train_X,train_Y)\n",
    "pred7=clf7.predict(test_X)\n",
    "accuracy_score(test_Y,pred7)\n"
   ]
  },
  {
   "cell_type": "code",
   "execution_count": 49,
   "metadata": {},
   "outputs": [
    {
     "data": {
      "text/plain": [
       "0.85922330097087374"
      ]
     },
     "execution_count": 49,
     "metadata": {},
     "output_type": "execute_result"
    }
   ],
   "source": [
    "#Linear Model\n",
    "\n",
    "from sklearn import linear_model\n",
    "clf8 = linear_model.LogisticRegression()\n",
    "clf8.fit(train_X,train_Y)\n",
    "pred8=clf8.predict(test_X)\n",
    "accuracy_score(test_Y,pred8)"
   ]
  }
 ],
 "metadata": {
  "kernelspec": {
   "display_name": "Python 2",
   "language": "python",
   "name": "python2"
  }
 },
 "nbformat": 4,
 "nbformat_minor": 2
}
